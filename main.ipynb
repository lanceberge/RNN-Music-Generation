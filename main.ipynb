{
 "cells": [
  {
   "cell_type": "markdown",
   "id": "aa2ff2e0",
   "metadata": {},
   "source": [
    "# Download Midi Data"
   ]
  },
  {
   "cell_type": "code",
   "execution_count": 2,
   "id": "0a85f68a",
   "metadata": {},
   "outputs": [],
   "source": [
    "import os\n",
    "import mido\n",
    "import string\n",
    "import numpy as np\n",
    "import matplotlib.pyplot as plt\n",
    "import torch\n",
    "import torch.nn as nn\n",
    "import torch.nn.functional as F\n",
    "from midi_ndarrays import *\n",
    "import mido\n",
    "\n",
    "cwd = os.getcwd()+'/'\n",
    "midi_data_dir = cwd+'midi_data/'\n",
    "csv_data_dir  = cwd+'csv_data/'"
   ]
  },
  {
   "cell_type": "code",
   "execution_count": 3,
   "id": "12fa57dc",
   "metadata": {},
   "outputs": [],
   "source": [
    "if not os.path.exists(midi_data_dir):\n",
    "    os.makedirs(midi_data_dir)\n",
    "    \n",
    "if not os.path.exists(csv_data_dir):\n",
    "    os.makedirs(csv_data_dir)"
   ]
  },
  {
   "cell_type": "code",
   "execution_count": 4,
   "id": "dabc932d",
   "metadata": {
    "scrolled": true
   },
   "outputs": [],
   "source": [
    "# download music if it hasn't already been downloaded\n",
    "if len(os.listdir(midi_data_dir)) == 0:\n",
    "    from midi_utils import download_midis\n",
    "    download_midis(midi_data_dir)\n",
    "    \n",
    "# load all midi files into csv then save to csv_data_dir\n",
    "if len(os.listdir(csv_data_dir)) == 0:\n",
    "    for file in os.listdir(midi_data_dir):\n",
    "        midi_file = midi_data_dir+file\n",
    "\n",
    "        try:\n",
    "            midi_tracks = mido.MidiFile(midi_file, clip=True)\n",
    "        \n",
    "        # ignore file if the key signature can't be read\n",
    "        except:\n",
    "            continue\n",
    "            \n",
    "        midi_array = mid2array(midi_tracks)\n",
    "\n",
    "        # encode start and end tokens\n",
    "        midi_array = np.pad(midi_array, 1)\n",
    "        midi_array[0, 0] = 127\n",
    "        midi_array[-1, -1] = 127\n",
    "        \n",
    "        # save each array as csv\n",
    "        np.savetxt(csv_data_dir+file[:-4]+'.csv', midi_array, fmt=\"%d\", delimiter=\",\")"
   ]
  },
  {
   "cell_type": "code",
   "execution_count": null,
   "id": "94991616",
   "metadata": {},
   "outputs": [],
   "source": [
    "def load_data(filename):\n",
    "    arr = np.genfromtxt(filename, delimiter=',')\n",
    "    \n",
    "    # update all values where the note played isn't 0 to 1, else 0\n",
    "    return np.where(arr != 0, 1, 0)"
   ]
  },
  {
   "cell_type": "markdown",
   "id": "1c4f7a8b",
   "metadata": {},
   "source": [
    "# The Model"
   ]
  },
  {
   "cell_type": "code",
   "execution_count": 95,
   "id": "8f0840d8",
   "metadata": {},
   "outputs": [],
   "source": [
    "class EncoderRNN(nn.Module):\n",
    "    def __init__(self, input_size, hidden_size, num_layers, dropout_p):\n",
    "        super(EncoderRNN, self).__init__()\n",
    "        \n",
    "        self.hidden_size = hidden_size\n",
    "        self.num_layers  = num_layers\n",
    "        \n",
    "        self.dropout   = nn.Dropout(dropout_p)\n",
    "        self.embedding = nn.Embedding(input_size, hidden_size)\n",
    "        self.rnn       = nn.LSTM(hidden_size, hidden_size, num_layers, dropout=dropout_p)\n",
    "        \n",
    "    def forward(self, x):\n",
    "        embedding = self.dropout(self.embedding(x))\n",
    "        outputs, (h, c) = self.rnn(embedding)\n",
    "        return h, c"
   ]
  },
  {
   "cell_type": "code",
   "execution_count": 96,
   "id": "69d55259",
   "metadata": {},
   "outputs": [],
   "source": [
    "class DecoderRNN(nn.Module):\n",
    "    def __init__(self, hidden_size, output_size, \n",
    "                num_layers, dropout_p):\n",
    "    \n",
    "        super(DecoderRNN, self).__init__()\n",
    "        self.hidden_size = hidden_size\n",
    "        self.num_layers  = num_layers\n",
    "\n",
    "        self.dropout   = nn.Dropout(dropout_p)\n",
    "        self.embedding = nn.Embedding(output_size, hidden_size)\n",
    "        \n",
    "        self.rnn = nn.LSTM(hidden_size, hidden_size, num_layers, dropout=dropout_p)\n",
    "        \n",
    "        self.fc = nn.Linear(hidden_size, output_size)\n",
    "        \n",
    "    def forward(self, x, hidden, cell):\n",
    "        x = x.unsqueeze(0)\n",
    "        \n",
    "        embedding = self.dropout(self.embedding(x))\n",
    "        \n",
    "        outputs, (hidden, cell) = self.rnn(embedding, (hidden, cell))\n",
    "        \n",
    "        predictions = self.fc(outputs)\n",
    "         \n",
    "        predictions = predictions.squeeze(0)\n",
    "        \n",
    "        return predictions, hidden, cell"
   ]
  },
  {
   "cell_type": "code",
   "execution_count": null,
   "id": "9053418f",
   "metadata": {},
   "outputs": [],
   "source": [
    "class Seq2Seq(nn.Module):\n",
    "    def __init__(self, encoder, decoder):\n",
    "        super().__init__()\n",
    "        \n",
    "        self.encoder = encoder\n",
    "        self.decoder = decoder\n",
    "\n",
    "        \n",
    "    def forward(self, src, trg, teacher_forcing_ratio = 0.5):\n",
    "        \n",
    "        batch_size = trg.shape[1]\n",
    "        trg_len = trg.shape[0]\n",
    "        \n",
    "        trg_out = self.decoder.output_dim\n",
    "        \n",
    "        #tensor to store decoder outputs\n",
    "        outputs = torch.zeros(trg_len, batch_size, trg_out).to(self.device)\n",
    "        \n",
    "        #last hidden state of the encoder is used as the initial hidden state of the decoder\n",
    "        hidden, cell = self.encoder(src)\n",
    "        \n",
    "        #first input to the decoder is the <sos> tokens\n",
    "        input = trg[0,:]\n",
    "        \n",
    "        for t in range(1, trg_len):\n",
    "            \n",
    "            #insert input token embedding, previous hidden and previous cell states\n",
    "            #receive output tensor (predictions) and new hidden and cell states\n",
    "            output, hidden, cell = self.decoder(input, hidden, cell)\n",
    "            \n",
    "            #place predictions in a tensor holding predictions for each token\n",
    "            outputs[t] = output\n",
    "            \n",
    "            #decide if we are going to use teacher forcing or not\n",
    "            teacher_force = random.random() < teacher_forcing_ratio\n",
    "            \n",
    "            #get the highest predicted token from our predictions\n",
    "            top1 = output.argmax(1) \n",
    "            \n",
    "            #if teacher forcing, use actual next token as next input\n",
    "            #if not, use predicted token\n",
    "            input = trg[t] if teacher_force else top1\n",
    "        \n",
    "        return outputs"
   ]
  },
  {
   "cell_type": "code",
   "execution_count": 5,
   "id": "2779875c",
   "metadata": {},
   "outputs": [],
   "source": [
    "drop_p  = 0.5\n",
    "\n",
    "encoder = EncoderRNN(input_size=90, hidden_size=256, num_layers=2, dropout_p=drop_p)\n",
    "decoder = DecoderRNN(hidden_size=256, output_size=90, num_layers=2, dropout_p=drop_p)\n",
    "seq2seq = Seq2Seq(encoder, decoder)\n",
    "# TODO\n",
    "# for epoch in epochs\n",
    "    # for song in epoch\n",
    "        # pass to seq to seq, compute loss, optimize"
   ]
  }
 ],
 "metadata": {
  "kernelspec": {
   "display_name": "Python 3 (ipykernel)",
   "language": "python",
   "name": "python3"
  },
  "language_info": {
   "codemirror_mode": {
    "name": "ipython",
    "version": 3
   },
   "file_extension": ".py",
   "mimetype": "text/x-python",
   "name": "python",
   "nbconvert_exporter": "python",
   "pygments_lexer": "ipython3",
   "version": "3.8.10"
  }
 },
 "nbformat": 4,
 "nbformat_minor": 5
}
